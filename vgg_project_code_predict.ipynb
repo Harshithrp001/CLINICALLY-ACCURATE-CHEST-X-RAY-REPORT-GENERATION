{
  "nbformat": 4,
  "nbformat_minor": 0,
  "metadata": {
    "colab": {
      "name": "vgg_project_code_predict.ipynb",
      "provenance": []
    },
    "kernelspec": {
      "name": "python3",
      "display_name": "Python 3"
    },
    "accelerator": "GPU"
  },
  "cells": [
    {
      "cell_type": "code",
      "metadata": {
        "id": "TpuQM3ut9Qj5",
        "colab": {
          "base_uri": "https://localhost:8080/",
          "height": 125
        },
        "outputId": "93905649-40a2-4d32-80df-7476a3e25a77"
      },
      "source": [
        "from google.colab import drive\n",
        "drive.mount('/content/gdrive')"
      ],
      "execution_count": null,
      "outputs": [
        {
          "output_type": "stream",
          "text": [
            "Go to this URL in a browser: https://accounts.google.com/o/oauth2/auth?client_id=947318989803-6bn6qk8qdgf4n4g3pfee6491hc0brc4i.apps.googleusercontent.com&redirect_uri=urn%3aietf%3awg%3aoauth%3a2.0%3aoob&response_type=code&scope=email%20https%3a%2f%2fwww.googleapis.com%2fauth%2fdocs.test%20https%3a%2f%2fwww.googleapis.com%2fauth%2fdrive%20https%3a%2f%2fwww.googleapis.com%2fauth%2fdrive.photos.readonly%20https%3a%2f%2fwww.googleapis.com%2fauth%2fpeopleapi.readonly\n",
            "\n",
            "Enter your authorization code:\n",
            "··········\n",
            "Mounted at /content/gdrive\n"
          ],
          "name": "stdout"
        }
      ]
    },
    {
      "cell_type": "code",
      "metadata": {
        "id": "a0dzEbCcRuoA",
        "colab": {
          "base_uri": "https://localhost:8080/",
          "height": 81
        },
        "outputId": "bd63ea52-ba86-4667-df0e-120ca7ef6a4e"
      },
      "source": [
        "import keras\n",
        "from keras import callbacks \n",
        "from keras.models import load_model\n",
        "from keras.optimizers import adam\n",
        "import numpy as np\n",
        "import h5py"
      ],
      "execution_count": null,
      "outputs": [
        {
          "output_type": "stream",
          "text": [
            "Using TensorFlow backend.\n"
          ],
          "name": "stderr"
        },
        {
          "output_type": "display_data",
          "data": {
            "text/html": [
              "<p style=\"color: red;\">\n",
              "The default version of TensorFlow in Colab will soon switch to TensorFlow 2.x.<br>\n",
              "We recommend you <a href=\"https://www.tensorflow.org/guide/migrate\" target=\"_blank\">upgrade</a> now \n",
              "or ensure your notebook will continue to use TensorFlow 1.x via the <code>%tensorflow_version 1.x</code> magic:\n",
              "<a href=\"https://colab.research.google.com/notebooks/tensorflow_version.ipynb\" target=\"_blank\">more info</a>.</p>\n"
            ],
            "text/plain": [
              "<IPython.core.display.HTML object>"
            ]
          },
          "metadata": {
            "tags": []
          }
        }
      ]
    },
    {
      "cell_type": "code",
      "metadata": {
        "id": "l6uRi0R5R2ad",
        "colab": {
          "base_uri": "https://localhost:8080/",
          "height": 618
        },
        "outputId": "ee255125-4a0b-4033-a02a-37e60f4a0d57"
      },
      "source": [
        "model = load_model('gdrive/My Drive/Project_Code/chest_xray_report_model_one_hot3_1.h5')"
      ],
      "execution_count": null,
      "outputs": [
        {
          "output_type": "stream",
          "text": [
            "WARNING:tensorflow:From /usr/local/lib/python3.6/dist-packages/keras/backend/tensorflow_backend.py:541: The name tf.placeholder is deprecated. Please use tf.compat.v1.placeholder instead.\n",
            "\n",
            "WARNING:tensorflow:From /usr/local/lib/python3.6/dist-packages/keras/backend/tensorflow_backend.py:66: The name tf.get_default_graph is deprecated. Please use tf.compat.v1.get_default_graph instead.\n",
            "\n",
            "WARNING:tensorflow:From /usr/local/lib/python3.6/dist-packages/keras/backend/tensorflow_backend.py:4432: The name tf.random_uniform is deprecated. Please use tf.random.uniform instead.\n",
            "\n",
            "WARNING:tensorflow:From /usr/local/lib/python3.6/dist-packages/keras/backend/tensorflow_backend.py:190: The name tf.get_default_session is deprecated. Please use tf.compat.v1.get_default_session instead.\n",
            "\n",
            "WARNING:tensorflow:From /usr/local/lib/python3.6/dist-packages/keras/backend/tensorflow_backend.py:197: The name tf.ConfigProto is deprecated. Please use tf.compat.v1.ConfigProto instead.\n",
            "\n",
            "WARNING:tensorflow:From /usr/local/lib/python3.6/dist-packages/keras/backend/tensorflow_backend.py:203: The name tf.Session is deprecated. Please use tf.compat.v1.Session instead.\n",
            "\n",
            "WARNING:tensorflow:From /usr/local/lib/python3.6/dist-packages/keras/backend/tensorflow_backend.py:207: The name tf.global_variables is deprecated. Please use tf.compat.v1.global_variables instead.\n",
            "\n",
            "WARNING:tensorflow:From /usr/local/lib/python3.6/dist-packages/keras/backend/tensorflow_backend.py:216: The name tf.is_variable_initialized is deprecated. Please use tf.compat.v1.is_variable_initialized instead.\n",
            "\n",
            "WARNING:tensorflow:From /usr/local/lib/python3.6/dist-packages/keras/backend/tensorflow_backend.py:223: The name tf.variables_initializer is deprecated. Please use tf.compat.v1.variables_initializer instead.\n",
            "\n",
            "WARNING:tensorflow:From /usr/local/lib/python3.6/dist-packages/keras/backend/tensorflow_backend.py:2041: The name tf.nn.fused_batch_norm is deprecated. Please use tf.compat.v1.nn.fused_batch_norm instead.\n",
            "\n",
            "WARNING:tensorflow:From /usr/local/lib/python3.6/dist-packages/keras/backend/tensorflow_backend.py:4267: The name tf.nn.max_pool is deprecated. Please use tf.nn.max_pool2d instead.\n",
            "\n",
            "WARNING:tensorflow:From /usr/local/lib/python3.6/dist-packages/keras/optimizers.py:793: The name tf.train.Optimizer is deprecated. Please use tf.compat.v1.train.Optimizer instead.\n",
            "\n",
            "WARNING:tensorflow:From /usr/local/lib/python3.6/dist-packages/keras/backend/tensorflow_backend.py:3576: The name tf.log is deprecated. Please use tf.math.log instead.\n",
            "\n",
            "WARNING:tensorflow:From /usr/local/lib/python3.6/dist-packages/tensorflow_core/python/ops/math_grad.py:1424: where (from tensorflow.python.ops.array_ops) is deprecated and will be removed in a future version.\n",
            "Instructions for updating:\n",
            "Use tf.where in 2.0, which has the same broadcast rule as np.where\n",
            "WARNING:tensorflow:From /usr/local/lib/python3.6/dist-packages/keras/backend/tensorflow_backend.py:1033: The name tf.assign_add is deprecated. Please use tf.compat.v1.assign_add instead.\n",
            "\n",
            "WARNING:tensorflow:From /usr/local/lib/python3.6/dist-packages/keras/backend/tensorflow_backend.py:1020: The name tf.assign is deprecated. Please use tf.compat.v1.assign instead.\n",
            "\n"
          ],
          "name": "stdout"
        }
      ]
    },
    {
      "cell_type": "code",
      "metadata": {
        "id": "ZQdPsIVaR5mD"
      },
      "source": [
        "opt = adam(lr=1e-5)\n",
        "dest_filepath = 'gdrive/My Drive/Colab Notebooks/Project/chest_xray_dataset2_report.hdf5'"
      ],
      "execution_count": null,
      "outputs": []
    },
    {
      "cell_type": "code",
      "metadata": {
        "id": "H5Xz2YMmR6RG"
      },
      "source": [
        "model.compile(loss=\"categorical_crossentropy\", optimizer=opt,metrics=[\"categorical_accuracy\"],sample_weight_mode='auto')"
      ],
      "execution_count": null,
      "outputs": []
    },
    {
      "cell_type": "code",
      "metadata": {
        "id": "bRbSX_IFXsdD"
      },
      "source": [
        "vocab3_keys = np.load('gdrive/My Drive/Colab Notebooks/Project/vocab3_keys.npy')"
      ],
      "execution_count": null,
      "outputs": []
    },
    {
      "cell_type": "code",
      "metadata": {
        "id": "mK0jNfT_Akps"
      },
      "source": [
        "def remove_values_from_list(the_list, val):\n",
        "    return [value for value in the_list if value != val] "
      ],
      "execution_count": null,
      "outputs": []
    },
    {
      "cell_type": "code",
      "metadata": {
        "id": "LppBUpPZR-8S"
      },
      "source": [
        "with h5py.File(dest_filepath, 'r') as f:\n",
        "  valid_images = f['input_data'][1000:1100]\n",
        "  result = model.predict(valid_images)"
      ],
      "execution_count": null,
      "outputs": []
    },
    {
      "cell_type": "code",
      "metadata": {
        "id": "AaJE1pHkSBsp"
      },
      "source": [
        "float_formatter = lambda x: \"%.2f\" % x\n",
        "np.set_printoptions(formatter={'float_kind':float_formatter})\n",
        "result = np.array(result)"
      ],
      "execution_count": null,
      "outputs": []
    },
    {
      "cell_type": "code",
      "metadata": {
        "id": "iGe4PsOLf-XZ",
        "colab": {
          "base_uri": "https://localhost:8080/",
          "height": 34
        },
        "outputId": "616a598a-98c0-41a3-fd2c-525d7177c09d"
      },
      "source": [
        "# getting indices of word in the vocabulary for report generation\n",
        "max_value_pred = []\n",
        "indices_pred = []\n",
        "result_pred = result[20]\n",
        "for i in range(len(result_pred)):\n",
        "  max_value_pred.append(np.amax(result_pred[i]))\n",
        "  r = np.where(result_pred[i] == np.amax(result_pred[i]))\n",
        "  indices_pred.append(r[0])\n",
        "max_value_pred = np.array(max_value_pred).reshape((len(max_value_pred),))\n",
        "indices_pred = np.array(indices_pred).reshape((len(indices_pred),))\n",
        "# concatenating words in a list\n",
        "a=[]\n",
        "for i in indices_pred:\n",
        "  a.append(vocab3_keys[i])\n",
        "a = remove_values_from_list(a, 'unknown') # removing unwanted words\n",
        "# getting report from list of words\n",
        "str1 = \" \"\n",
        "str1 = str1.join(a)\n",
        "print(str1)"
      ],
      "execution_count": null,
      "outputs": [
        {
          "output_type": "stream",
          "text": [
            "no lungs normal normal size osseous there there normal normal limits pleural is normal normal normal limits\n"
          ],
          "name": "stdout"
        }
      ]
    },
    {
      "cell_type": "code",
      "metadata": {
        "id": "-SKG5-Y7nik4",
        "colab": {
          "base_uri": "https://localhost:8080/",
          "height": 54
        },
        "outputId": "b4559b29-dd54-429c-b95f-8abf40e96a03"
      },
      "source": [
        "# original report\n",
        "dest_filepath1 = 'gdrive/My Drive/Colab Notebooks/Project/chest_xray_dataset2_report_one_hot.hdf5'\n",
        "with h5py.File(dest_filepath1, 'r') as g:\n",
        "  Y = g['report_one_hot3'][1020]\n",
        "  max_value = []\n",
        "  indices = []\n",
        "  for i in range(len(Y)):\n",
        "    max_value.append(np.amax(Y[i]))\n",
        "    r = np.where(Y[i] == np.amax(Y[i]))\n",
        "    indices.append(r[0])\n",
        "  max_value = np.array(max_value).reshape((len(max_value),))\n",
        "  indices = np.array(indices).reshape((len(indices),))\n",
        "# concatenating words in a list\n",
        "a=[]\n",
        "for i in indices:\n",
        "  a.append(vocab3_keys[i])\n",
        "a = remove_values_from_list(a, 'unknown') # removing unwanted words\n",
        "# getting report from list of words\n",
        "str1 = \" \"\n",
        "str1 = str1.join(a)\n",
        "print(str1)"
      ],
      "execution_count": null,
      "outputs": [
        {
          "output_type": "stream",
          "text": [
            "effusion normal contour vascularity space pulmonary no cardiomediastinal to spine several no size is pneumonia limits effusion normal t no lungs pleural structures is and no prominent thoracic pleural expanded appears is and evidence vertebral\n"
          ],
          "name": "stdout"
        }
      ]
    },
    {
      "cell_type": "code",
      "metadata": {
        "id": "-2WKF9tG8TXa"
      },
      "source": [
        ""
      ],
      "execution_count": null,
      "outputs": []
    }
  ]
}