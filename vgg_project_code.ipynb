{
  "nbformat": 4,
  "nbformat_minor": 0,
  "metadata": {
    "kernelspec": {
      "name": "python3",
      "display_name": "Python 3"
    },
    "language_info": {
      "codemirror_mode": {
        "name": "ipython",
        "version": 3
      },
      "file_extension": ".py",
      "mimetype": "text/x-python",
      "name": "python",
      "nbconvert_exporter": "python",
      "pygments_lexer": "ipython3",
      "version": "3.7.4"
    },
    "colab": {
      "name": "vgg_project_code.ipynb",
      "provenance": [],
      "collapsed_sections": []
    },
    "accelerator": "GPU"
  },
  "cells": [
    {
      "cell_type": "code",
      "metadata": {
        "id": "3jUX_Ze4curO",
        "colab": {
          "base_uri": "https://localhost:8080/",
          "height": 81
        },
        "outputId": "b1aa2238-a154-4ec6-eab7-3a679aa9b42e"
      },
      "source": [
        "from keras.layers import LSTM, Dense, RepeatVector, Conv2D, MaxPooling2D, Input, BatchNormalization, Flatten, Reshape\n",
        "import keras\n",
        "from keras import callbacks \n",
        "from keras.models import Model\n",
        "from keras.optimizers import adam,sgd\n",
        "import numpy as np\n",
        "import h5py\n",
        "from keras.utils import plot_model\n",
        "import matplotlib.pyplot as plt"
      ],
      "execution_count": null,
      "outputs": [
        {
          "output_type": "stream",
          "text": [
            "Using TensorFlow backend.\n"
          ],
          "name": "stderr"
        },
        {
          "output_type": "display_data",
          "data": {
            "text/html": [
              "<p style=\"color: red;\">\n",
              "The default version of TensorFlow in Colab will soon switch to TensorFlow 2.x.<br>\n",
              "We recommend you <a href=\"https://www.tensorflow.org/guide/migrate\" target=\"_blank\">upgrade</a> now \n",
              "or ensure your notebook will continue to use TensorFlow 1.x via the <code>%tensorflow_version 1.x</code> magic:\n",
              "<a href=\"https://colab.research.google.com/notebooks/tensorflow_version.ipynb\" target=\"_blank\">more info</a>.</p>\n"
            ],
            "text/plain": [
              "<IPython.core.display.HTML object>"
            ]
          },
          "metadata": {
            "tags": []
          }
        }
      ]
    },
    {
      "cell_type": "code",
      "metadata": {
        "id": "U4_nILW3curT"
      },
      "source": [
        "def prediction_network(width, height, depth, hidden_layer = 2048, weightsPath=None):\n",
        "    \n",
        "    bn_flag = True\n",
        "    inputs_to_vgg = Input((width, height , depth))\n",
        "    conv1 = Conv2D(64, (3, 3), activation='relu', padding='same')(inputs_to_vgg)\n",
        "    conv1 = BatchNormalization(axis = -1)(conv1,training=bn_flag)\n",
        "    conv1 = Conv2D(64, (3, 3), activation='relu', padding='same')(conv1)\n",
        "    conv1 = BatchNormalization(axis= -1)(conv1,training=bn_flag)\n",
        "    pool1 = MaxPooling2D(pool_size=(2, 2))(conv1)\n",
        "    ##\n",
        "    conv1 = Conv2D(64, (3, 3), activation='relu', padding='same')(inputs_to_vgg)\n",
        "    conv1 = BatchNormalization(axis = -1)(conv1,training=bn_flag)\n",
        "    conv1 = Conv2D(64, (3, 3), activation='relu', padding='same')(conv1)\n",
        "    conv1 = BatchNormalization(axis= -1)(conv1,training=bn_flag)\n",
        "    pool1 = MaxPooling2D(pool_size=(2, 2))(conv1)\n",
        "    ##\n",
        "    conv2 = Conv2D(128, (3, 3), activation='relu', padding='same')(pool1)\n",
        "    conv2 = BatchNormalization(axis = -1)(conv2,training=bn_flag)\n",
        "    conv2 = Conv2D(128, (3, 3), activation='relu', padding='same')(conv2)\n",
        "    conv2 = BatchNormalization(axis= -1)(conv2,training=bn_flag)\n",
        "    pool2 = MaxPooling2D(pool_size=(2, 2))(conv2)\n",
        "    ##\n",
        "    conv3 = Conv2D(256, (3, 3), activation='relu', padding='same')(pool2)\n",
        "    conv3 = BatchNormalization(axis = -1)(conv3,training=bn_flag)\n",
        "    conv3 = Conv2D(256, (3, 3), activation='relu', padding='same')(conv3)\n",
        "    conv3 = BatchNormalization(axis = -1)(conv3,training=bn_flag)\n",
        "    conv3 = Conv2D(256, (3, 3), activation='relu', padding='same')(conv3)\n",
        "    conv3 = BatchNormalization(axis = -1)(conv3,training=bn_flag)\n",
        "    pool3 = MaxPooling2D(pool_size=(2, 2))(conv3)\n",
        "    ##\n",
        "    conv4 = Conv2D(512, (3, 3), activation='relu', padding='same')(pool3)\n",
        "    conv4 = BatchNormalization(axis = -1)(conv4,training=bn_flag)\n",
        "    conv4 = Conv2D(512, (3, 3), activation='relu', padding='same')(conv4)\n",
        "    conv4 = BatchNormalization(axis = -1)(conv4,training=bn_flag)\n",
        "    conv4 = Conv2D(512, (3, 3), activation='relu', padding='same')(conv4)\n",
        "    conv4 = BatchNormalization(axis = -1)(conv4,training=bn_flag)\n",
        "    pool4 = MaxPooling2D(pool_size=(2, 2))(conv4)\n",
        "    ##\n",
        "    conv5 = Conv2D(512, (3, 3), activation='relu', padding='same')(pool4)\n",
        "    conv5 = BatchNormalization(axis = -1)(conv5,training=bn_flag)\n",
        "    conv5 = Conv2D(512, (3, 3), activation='relu', padding='same')(conv5)\n",
        "    conv5 = BatchNormalization(axis = -1)(conv5,training=bn_flag)\n",
        "    conv5 = Conv2D(512, (3, 3), activation='relu', padding='same')(conv5)\n",
        "    conv5 = BatchNormalization(axis = -1)(conv5,training=bn_flag)\n",
        "    pool5 = MaxPooling2D(pool_size=(2, 2))(conv5)\n",
        "    ##\n",
        "    conv6 = Conv2D(512, (3, 3), activation='relu', padding='same')(pool5)\n",
        "    conv6 = BatchNormalization(axis = -1)(conv6,training=bn_flag)\n",
        "    conv6 = Conv2D(512, (3, 3), activation='relu', padding='same')(conv6)\n",
        "    conv6 = BatchNormalization(axis = -1)(conv6,training=bn_flag)\n",
        "    conv6 = Conv2D(512, (3, 3), activation='relu', padding='same')(conv6)\n",
        "    conv6 = BatchNormalization(axis = -1)(conv6,training=bn_flag)\n",
        "    pool6 = MaxPooling2D(pool_size=(2, 2))(conv6)\n",
        "    Y = Flatten()(pool6)\n",
        "    Y = Dense(hidden_layer, activation='relu')(Y)\n",
        "    Y = Dense(hidden_layer, activation='relu')(Y)\n",
        "    Y = Dense(hidden_layer, activation='relu')(Y)\n",
        "    Y = Reshape((hidden_layer, ))(Y)\n",
        "\n",
        "    ####################################################################################################\n",
        "    # Y is the output from the VGG network. \n",
        "  \n",
        "    L = RepeatVector(64)(Y)\n",
        "    L = LSTM(1618 , return_sequences = True, activation = 'softmax' )(L)\n",
        "    # out = TimeDistributed(Dense(1618, activation = 'softmax'))(L)\n",
        "  \n",
        "\n",
        "    model = Model(inputs=inputs_to_vgg, outputs=[L])\n",
        "  \n",
        "    if weightsPath is not None:\n",
        "        model.load_weights(weightsPath)\n",
        "    \n",
        "    print(model.summary())\n",
        "    return model"
      ],
      "execution_count": null,
      "outputs": []
    },
    {
      "cell_type": "code",
      "metadata": {
        "id": "5GpfX_qOcurV",
        "colab": {
          "base_uri": "https://localhost:8080/",
          "height": 125
        },
        "outputId": "61e435b2-2a95-45a2-a2ff-46e337cb62d3"
      },
      "source": [
        "from google.colab import drive\n",
        "drive.mount('/content/gdrive')"
      ],
      "execution_count": null,
      "outputs": [
        {
          "output_type": "stream",
          "text": [
            "Go to this URL in a browser: https://accounts.google.com/o/oauth2/auth?client_id=947318989803-6bn6qk8qdgf4n4g3pfee6491hc0brc4i.apps.googleusercontent.com&redirect_uri=urn%3aietf%3awg%3aoauth%3a2.0%3aoob&response_type=code&scope=email%20https%3a%2f%2fwww.googleapis.com%2fauth%2fdocs.test%20https%3a%2f%2fwww.googleapis.com%2fauth%2fdrive%20https%3a%2f%2fwww.googleapis.com%2fauth%2fdrive.photos.readonly%20https%3a%2f%2fwww.googleapis.com%2fauth%2fpeopleapi.readonly\n",
            "\n",
            "Enter your authorization code:\n",
            "··········\n",
            "Mounted at /content/gdrive\n"
          ],
          "name": "stdout"
        }
      ]
    },
    {
      "cell_type": "code",
      "metadata": {
        "id": "jvIdJ5LScurX"
      },
      "source": [
        "dest_filepath = 'gdrive/My Drive/Colab Notebooks/Project/chest_xray_dataset2_report.hdf5'\n",
        "dest_filepath1 = 'gdrive/My Drive/Colab Notebooks/Project/chest_xray_dataset2_report_one_hot.hdf5'"
      ],
      "execution_count": null,
      "outputs": []
    },
    {
      "cell_type": "code",
      "metadata": {
        "id": "fuHJl1sycurZ",
        "colab": {
          "base_uri": "https://localhost:8080/",
          "height": 1000
        },
        "outputId": "f0a782cf-687e-4d08-e45b-5fcf7db1553e"
      },
      "source": [
        "model = prediction_network(width = 512, height = 512, depth = 1)"
      ],
      "execution_count": null,
      "outputs": [
        {
          "output_type": "stream",
          "text": [
            "WARNING:tensorflow:From /usr/local/lib/python3.6/dist-packages/keras/backend/tensorflow_backend.py:66: The name tf.get_default_graph is deprecated. Please use tf.compat.v1.get_default_graph instead.\n",
            "\n",
            "WARNING:tensorflow:From /usr/local/lib/python3.6/dist-packages/keras/backend/tensorflow_backend.py:541: The name tf.placeholder is deprecated. Please use tf.compat.v1.placeholder instead.\n",
            "\n",
            "WARNING:tensorflow:From /usr/local/lib/python3.6/dist-packages/keras/backend/tensorflow_backend.py:4432: The name tf.random_uniform is deprecated. Please use tf.random.uniform instead.\n",
            "\n",
            "WARNING:tensorflow:From /usr/local/lib/python3.6/dist-packages/keras/backend/tensorflow_backend.py:190: The name tf.get_default_session is deprecated. Please use tf.compat.v1.get_default_session instead.\n",
            "\n",
            "WARNING:tensorflow:From /usr/local/lib/python3.6/dist-packages/keras/backend/tensorflow_backend.py:197: The name tf.ConfigProto is deprecated. Please use tf.compat.v1.ConfigProto instead.\n",
            "\n",
            "WARNING:tensorflow:From /usr/local/lib/python3.6/dist-packages/keras/backend/tensorflow_backend.py:203: The name tf.Session is deprecated. Please use tf.compat.v1.Session instead.\n",
            "\n",
            "WARNING:tensorflow:From /usr/local/lib/python3.6/dist-packages/keras/backend/tensorflow_backend.py:207: The name tf.global_variables is deprecated. Please use tf.compat.v1.global_variables instead.\n",
            "\n",
            "WARNING:tensorflow:From /usr/local/lib/python3.6/dist-packages/keras/backend/tensorflow_backend.py:216: The name tf.is_variable_initialized is deprecated. Please use tf.compat.v1.is_variable_initialized instead.\n",
            "\n",
            "WARNING:tensorflow:From /usr/local/lib/python3.6/dist-packages/keras/backend/tensorflow_backend.py:223: The name tf.variables_initializer is deprecated. Please use tf.compat.v1.variables_initializer instead.\n",
            "\n",
            "WARNING:tensorflow:From /usr/local/lib/python3.6/dist-packages/keras/backend/tensorflow_backend.py:2041: The name tf.nn.fused_batch_norm is deprecated. Please use tf.compat.v1.nn.fused_batch_norm instead.\n",
            "\n",
            "WARNING:tensorflow:From /usr/local/lib/python3.6/dist-packages/keras/backend/tensorflow_backend.py:4267: The name tf.nn.max_pool is deprecated. Please use tf.nn.max_pool2d instead.\n",
            "\n",
            "Model: \"model_1\"\n",
            "_________________________________________________________________\n",
            "Layer (type)                 Output Shape              Param #   \n",
            "=================================================================\n",
            "input_1 (InputLayer)         (None, 512, 512, 1)       0         \n",
            "_________________________________________________________________\n",
            "conv2d_3 (Conv2D)            (None, 512, 512, 64)      640       \n",
            "_________________________________________________________________\n",
            "batch_normalization_3 (Batch (None, 512, 512, 64)      256       \n",
            "_________________________________________________________________\n",
            "conv2d_4 (Conv2D)            (None, 512, 512, 64)      36928     \n",
            "_________________________________________________________________\n",
            "batch_normalization_4 (Batch (None, 512, 512, 64)      256       \n",
            "_________________________________________________________________\n",
            "max_pooling2d_2 (MaxPooling2 (None, 256, 256, 64)      0         \n",
            "_________________________________________________________________\n",
            "conv2d_5 (Conv2D)            (None, 256, 256, 128)     73856     \n",
            "_________________________________________________________________\n",
            "batch_normalization_5 (Batch (None, 256, 256, 128)     512       \n",
            "_________________________________________________________________\n",
            "conv2d_6 (Conv2D)            (None, 256, 256, 128)     147584    \n",
            "_________________________________________________________________\n",
            "batch_normalization_6 (Batch (None, 256, 256, 128)     512       \n",
            "_________________________________________________________________\n",
            "max_pooling2d_3 (MaxPooling2 (None, 128, 128, 128)     0         \n",
            "_________________________________________________________________\n",
            "conv2d_7 (Conv2D)            (None, 128, 128, 256)     295168    \n",
            "_________________________________________________________________\n",
            "batch_normalization_7 (Batch (None, 128, 128, 256)     1024      \n",
            "_________________________________________________________________\n",
            "conv2d_8 (Conv2D)            (None, 128, 128, 256)     590080    \n",
            "_________________________________________________________________\n",
            "batch_normalization_8 (Batch (None, 128, 128, 256)     1024      \n",
            "_________________________________________________________________\n",
            "conv2d_9 (Conv2D)            (None, 128, 128, 256)     590080    \n",
            "_________________________________________________________________\n",
            "batch_normalization_9 (Batch (None, 128, 128, 256)     1024      \n",
            "_________________________________________________________________\n",
            "max_pooling2d_4 (MaxPooling2 (None, 64, 64, 256)       0         \n",
            "_________________________________________________________________\n",
            "conv2d_10 (Conv2D)           (None, 64, 64, 512)       1180160   \n",
            "_________________________________________________________________\n",
            "batch_normalization_10 (Batc (None, 64, 64, 512)       2048      \n",
            "_________________________________________________________________\n",
            "conv2d_11 (Conv2D)           (None, 64, 64, 512)       2359808   \n",
            "_________________________________________________________________\n",
            "batch_normalization_11 (Batc (None, 64, 64, 512)       2048      \n",
            "_________________________________________________________________\n",
            "conv2d_12 (Conv2D)           (None, 64, 64, 512)       2359808   \n",
            "_________________________________________________________________\n",
            "batch_normalization_12 (Batc (None, 64, 64, 512)       2048      \n",
            "_________________________________________________________________\n",
            "max_pooling2d_5 (MaxPooling2 (None, 32, 32, 512)       0         \n",
            "_________________________________________________________________\n",
            "conv2d_13 (Conv2D)           (None, 32, 32, 512)       2359808   \n",
            "_________________________________________________________________\n",
            "batch_normalization_13 (Batc (None, 32, 32, 512)       2048      \n",
            "_________________________________________________________________\n",
            "conv2d_14 (Conv2D)           (None, 32, 32, 512)       2359808   \n",
            "_________________________________________________________________\n",
            "batch_normalization_14 (Batc (None, 32, 32, 512)       2048      \n",
            "_________________________________________________________________\n",
            "conv2d_15 (Conv2D)           (None, 32, 32, 512)       2359808   \n",
            "_________________________________________________________________\n",
            "batch_normalization_15 (Batc (None, 32, 32, 512)       2048      \n",
            "_________________________________________________________________\n",
            "max_pooling2d_6 (MaxPooling2 (None, 16, 16, 512)       0         \n",
            "_________________________________________________________________\n",
            "conv2d_16 (Conv2D)           (None, 16, 16, 512)       2359808   \n",
            "_________________________________________________________________\n",
            "batch_normalization_16 (Batc (None, 16, 16, 512)       2048      \n",
            "_________________________________________________________________\n",
            "conv2d_17 (Conv2D)           (None, 16, 16, 512)       2359808   \n",
            "_________________________________________________________________\n",
            "batch_normalization_17 (Batc (None, 16, 16, 512)       2048      \n",
            "_________________________________________________________________\n",
            "conv2d_18 (Conv2D)           (None, 16, 16, 512)       2359808   \n",
            "_________________________________________________________________\n",
            "batch_normalization_18 (Batc (None, 16, 16, 512)       2048      \n",
            "_________________________________________________________________\n",
            "max_pooling2d_7 (MaxPooling2 (None, 8, 8, 512)         0         \n",
            "_________________________________________________________________\n",
            "flatten_1 (Flatten)          (None, 32768)             0         \n",
            "_________________________________________________________________\n",
            "dense_1 (Dense)              (None, 2048)              67110912  \n",
            "_________________________________________________________________\n",
            "dense_2 (Dense)              (None, 2048)              4196352   \n",
            "_________________________________________________________________\n",
            "dense_3 (Dense)              (None, 2048)              4196352   \n",
            "_________________________________________________________________\n",
            "reshape_1 (Reshape)          (None, 2048)              0         \n",
            "_________________________________________________________________\n",
            "repeat_vector_1 (RepeatVecto (None, 64, 2048)          0         \n",
            "_________________________________________________________________\n",
            "lstm_1 (LSTM)                (None, 64, 1618)          23732824  \n",
            "=================================================================\n",
            "Total params: 121,052,440\n",
            "Trainable params: 121,040,920\n",
            "Non-trainable params: 11,520\n",
            "_________________________________________________________________\n",
            "None\n"
          ],
          "name": "stdout"
        }
      ]
    },
    {
      "cell_type": "code",
      "metadata": {
        "id": "_IoQ4mAncurb",
        "colab": {
          "base_uri": "https://localhost:8080/",
          "height": 125
        },
        "outputId": "87f3aab9-94cc-40b6-fb90-e81dbb19043b"
      },
      "source": [
        "#weightsPath='gdrive/My Drive/Project_Code/chest_xray_report_model_one_hot3.h5'\n",
        "path2save = 'gdrive/My Drive/Project_Code/chest_xray_report_model_one_hot.h5'\n",
        "modelCheck = callbacks.ModelCheckpoint(path2save, monitor='loss', verbose=1, mode='auto') \n",
        "opt = adam(lr=1e-5)\n",
        "#Set the compiler parameter for the training\n",
        "model.compile(loss=\"categorical_crossentropy\", optimizer=opt,metrics=[\"categorical_accuracy\"],sample_weight_mode='auto')\n",
        "print (\"Training the Model...\")"
      ],
      "execution_count": null,
      "outputs": [
        {
          "output_type": "stream",
          "text": [
            "WARNING:tensorflow:From /usr/local/lib/python3.6/dist-packages/keras/optimizers.py:793: The name tf.train.Optimizer is deprecated. Please use tf.compat.v1.train.Optimizer instead.\n",
            "\n",
            "WARNING:tensorflow:From /usr/local/lib/python3.6/dist-packages/keras/backend/tensorflow_backend.py:3576: The name tf.log is deprecated. Please use tf.math.log instead.\n",
            "\n",
            "Training the Model...\n"
          ],
          "name": "stdout"
        }
      ]
    },
    {
      "cell_type": "code",
      "metadata": {
        "id": "UTAUXKQWcurd",
        "colab": {
          "base_uri": "https://localhost:8080/",
          "height": 1000
        },
        "outputId": "4479606a-4b9d-4142-9e33-f8e1b705b1d3"
      },
      "source": [
        "with h5py.File(dest_filepath, 'r') as f: \n",
        "    X_images = f['input_data']\n",
        "    with h5py.File(dest_filepath1, 'r') as g:\n",
        "      Y = g['report_one_hot']\n",
        "      history = model.fit(X_images , Y, batch_size=4, epochs=12, verbose=1, callbacks= [modelCheck], shuffle=\"batch\", validation_split=0.1)\n",
        "      print (\"Dumping Weights to file...\")\n",
        "# Plot training & validation accuracy values\n",
        "plt.plot(history.history['categorical_accuracy'])\n",
        "plt.plot(history.history['val_categorical_accuracy'])\n",
        "plt.title('Model accuracy')\n",
        "plt.ylabel('Accuracy')\n",
        "plt.xlabel('Epoch')\n",
        "plt.legend(['Train', 'Test'], loc='upper left')\n",
        "plt.show()\n",
        "\n",
        "# Plot training & validation loss values\n",
        "plt.plot(history.history['loss'])\n",
        "plt.plot(history.history['val_loss'])\n",
        "plt.title('Model loss')\n",
        "plt.ylabel('Loss')\n",
        "plt.xlabel('Epoch')\n",
        "plt.legend(['Train', 'Test'], loc='upper left')\n",
        "plt.show() "
      ],
      "execution_count": null,
      "outputs": [
        {
          "output_type": "stream",
          "text": [
            "WARNING:tensorflow:From /usr/local/lib/python3.6/dist-packages/tensorflow_core/python/ops/math_grad.py:1424: where (from tensorflow.python.ops.array_ops) is deprecated and will be removed in a future version.\n",
            "Instructions for updating:\n",
            "Use tf.where in 2.0, which has the same broadcast rule as np.where\n",
            "WARNING:tensorflow:From /usr/local/lib/python3.6/dist-packages/keras/backend/tensorflow_backend.py:1033: The name tf.assign_add is deprecated. Please use tf.compat.v1.assign_add instead.\n",
            "\n",
            "WARNING:tensorflow:From /usr/local/lib/python3.6/dist-packages/keras/backend/tensorflow_backend.py:1020: The name tf.assign is deprecated. Please use tf.compat.v1.assign instead.\n",
            "\n",
            "Train on 3003 samples, validate on 334 samples\n",
            "Epoch 1/12\n",
            "3003/3003 [==============================] - 1264s 421ms/step - loss: 3.5687 - categorical_accuracy: 0.4975 - val_loss: 3.2770 - val_categorical_accuracy: 0.5150\n",
            "\n",
            "Epoch 00001: saving model to gdrive/My Drive/Project_Code/chest_xray_report_model_one_hot.h5\n",
            "Epoch 2/12\n",
            "3003/3003 [==============================] - 1251s 417ms/step - loss: 3.1721 - categorical_accuracy: 0.5130 - val_loss: 3.1120 - val_categorical_accuracy: 0.5150\n",
            "\n",
            "Epoch 00002: saving model to gdrive/My Drive/Project_Code/chest_xray_report_model_one_hot.h5\n",
            "Epoch 3/12\n",
            "3003/3003 [==============================] - 1258s 419ms/step - loss: 3.0907 - categorical_accuracy: 0.5135 - val_loss: 3.1106 - val_categorical_accuracy: 0.5150\n",
            "\n",
            "Epoch 00003: saving model to gdrive/My Drive/Project_Code/chest_xray_report_model_one_hot.h5\n",
            "Epoch 4/12\n",
            "3003/3003 [==============================] - 1257s 419ms/step - loss: 3.0581 - categorical_accuracy: 0.5135 - val_loss: 3.0664 - val_categorical_accuracy: 0.5150\n",
            "\n",
            "Epoch 00004: saving model to gdrive/My Drive/Project_Code/chest_xray_report_model_one_hot.h5\n",
            "Epoch 5/12\n",
            "3003/3003 [==============================] - 1256s 418ms/step - loss: 3.0237 - categorical_accuracy: 0.5135 - val_loss: 3.0554 - val_categorical_accuracy: 0.5150\n",
            "\n",
            "Epoch 00005: saving model to gdrive/My Drive/Project_Code/chest_xray_report_model_one_hot.h5\n",
            "Epoch 6/12\n",
            "3003/3003 [==============================] - 1249s 416ms/step - loss: 3.0320 - categorical_accuracy: 0.5134 - val_loss: 3.1228 - val_categorical_accuracy: 0.5152\n",
            "\n",
            "Epoch 00006: saving model to gdrive/My Drive/Project_Code/chest_xray_report_model_one_hot.h5\n",
            "Epoch 7/12\n",
            "3003/3003 [==============================] - 1249s 416ms/step - loss: 3.0079 - categorical_accuracy: 0.5136 - val_loss: 3.0364 - val_categorical_accuracy: 0.5153\n",
            "\n",
            "Epoch 00007: saving model to gdrive/My Drive/Project_Code/chest_xray_report_model_one_hot.h5\n",
            "Epoch 8/12\n",
            "3003/3003 [==============================] - 1247s 415ms/step - loss: 2.9978 - categorical_accuracy: 0.5137 - val_loss: 3.0294 - val_categorical_accuracy: 0.5152\n",
            "\n",
            "Epoch 00008: saving model to gdrive/My Drive/Project_Code/chest_xray_report_model_one_hot.h5\n",
            "Epoch 9/12\n",
            "3003/3003 [==============================] - 1253s 417ms/step - loss: 2.9622 - categorical_accuracy: 0.5138 - val_loss: 3.0194 - val_categorical_accuracy: 0.5156\n",
            "\n",
            "Epoch 00009: saving model to gdrive/My Drive/Project_Code/chest_xray_report_model_one_hot.h5\n",
            "Epoch 10/12\n",
            "3003/3003 [==============================] - 1252s 417ms/step - loss: 2.9213 - categorical_accuracy: 0.5137 - val_loss: 3.0394 - val_categorical_accuracy: 0.5151\n",
            "\n",
            "Epoch 00010: saving model to gdrive/My Drive/Project_Code/chest_xray_report_model_one_hot.h5\n",
            "Epoch 11/12\n",
            "3003/3003 [==============================] - 1248s 416ms/step - loss: 2.9377 - categorical_accuracy: 0.5142 - val_loss: 3.0382 - val_categorical_accuracy: 0.5160\n",
            "\n",
            "Epoch 00011: saving model to gdrive/My Drive/Project_Code/chest_xray_report_model_one_hot.h5\n",
            "Epoch 12/12\n",
            "3003/3003 [==============================] - 1230s 410ms/step - loss: 2.9510 - categorical_accuracy: 0.5148 - val_loss: 3.0029 - val_categorical_accuracy: 0.5162\n",
            "\n",
            "Epoch 00012: saving model to gdrive/My Drive/Project_Code/chest_xray_report_model_one_hot.h5\n",
            "Dumping Weights to file...\n"
          ],
          "name": "stdout"
        },
        {
          "output_type": "display_data",
          "data": {
            "image/png": "[encoded data removed]",
            "text/plain": [
              "<Figure size 432x288 with 1 Axes>"
            ]
          },
          "metadata": {
            "tags": []
          }
        },
        {
          "output_type": "display_data",
          "data": {
            "image/png": "[encoded data removed]",
            "text/plain": [
              "<Figure size 432x288 with 1 Axes>"
            ]
          },
          "metadata": {
            "tags": []
          }
        }
      ]
    },
    {
      "cell_type": "code",
      "metadata": {
        "id": "LNhcW-fx5Fx5"
      },
      "source": [
        ""
      ],
      "execution_count": null,
      "outputs": []
    }
  ]
}